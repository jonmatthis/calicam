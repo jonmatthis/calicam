{
 "cells": [
  {
   "cell_type": "markdown",
   "metadata": {},
   "source": [
    "# Introduction\n",
    "\n",
    "1. Load in the collected data and camera parameters\n",
    "2. Reformat the collected data for easier viewing and analysis\n",
    "3. Calculate the projection matrices\n",
    "\n"
   ]
  },
  {
   "cell_type": "markdown",
   "metadata": {},
   "source": [
    "\n",
    "## Load in the data\n",
    "\n",
    "Begin by building a dictionary that consolidates all of the calibration data collected."
   ]
  },
  {
   "cell_type": "code",
   "execution_count": 1,
   "metadata": {},
   "outputs": [],
   "source": [
    "\n",
    "import numpy as np\n",
    "import json\n",
    "from pathlib import Path\n",
    "\n",
    "cam0_cal = \"calibration_params\\cam_0.json\"\n",
    "cam1_cal = \"calibration_params\\cam_1.json\"\n",
    "stereocam_0_1_cal = \"calibration_params\\stereo_cam_0_cam_1.json\"\n",
    "\n",
    "calibration_data = {\n",
    "                    \"cam0\": cam0_cal, \n",
    "                    \"cam1\": cam1_cal, \n",
    "                    \"stereocam\": stereocam_0_1_cal\n",
    "                    }\n",
    "\n",
    "\n",
    "for key, json_path in calibration_data.items():\n",
    "    with open(Path(Path.cwd(), json_path)) as f:\n",
    "        calibration_data[key] = json.load(f)\n"
   ]
  },
  {
   "cell_type": "markdown",
   "metadata": {},
   "source": [
    "## Reconfigure the data\n",
    "\n",
    "For ease of processing and plotting, convert the observed 2D image data into a consolidated dataframe."
   ]
  },
  {
   "cell_type": "code",
   "execution_count": 2,
   "metadata": {},
   "outputs": [],
   "source": [
    "# trying a different way to get a list of lists in the condition that I want\n",
    "\n",
    "import pandas as pd\n",
    "\n",
    "imgpointsA = calibration_data[\"stereocam\"][\"image_points_A\"]\n",
    "imgpointsB = calibration_data[\"stereocam\"][\"image_points_B\"]\n",
    "imgpointsID = calibration_data[\"stereocam\"][\"image_points_ID\"]\n",
    "\n",
    "frame = 0\n",
    "summarized_points = []\n",
    "\n",
    "for ID, pointA, pointB in zip(imgpointsID, imgpointsA, imgpointsB):\n",
    "    for i, uv_A, uv_B in zip(ID, pointA, pointB):\n",
    "        summarized_points.append([frame, int(i), uv_A[0], uv_A[1], uv_B[0], uv_B[1]])\n",
    "\n",
    "    # print(frame)\n",
    "    frame = frame + 1\n",
    "\n",
    "df_pnts = pd.DataFrame(summarized_points,\n",
    "                        columns = [\"frame\", \"ID\", \"u_A\", \"v_A\", \"u_B\", \"v_B\"])\n",
    "\n"
   ]
  },
  {
   "cell_type": "markdown",
   "metadata": {},
   "source": [
    "## Define the Direct Linear Transformation to 3D Space\n",
    "Isolate the parameters needed to create the projection matrices. Use them to define the Direct Linear Transformation that will be used to map the pair of 2D images to a 3D estimate. "
   ]
  },
  {
   "cell_type": "code",
   "execution_count": 3,
   "metadata": {},
   "outputs": [],
   "source": [
    "\n",
    "# cam0 orientation will define the global frame of reference, so\n",
    "# RT1 is this...not fully sure what this stuff means\n",
    "RT1 = np.concatenate([np.eye(3), [[0],[0],[0]]], axis = -1)\n",
    "mtx1 = calibration_data[\"cam0\"][\"camera_matrix\"]\n",
    "P1 = mtx1 @ RT1 #projection matrix for C1\n",
    "\n",
    "R2 = calibration_data[\"stereocam\"][\"rotation_vector\"]\n",
    "T2 = calibration_data[\"stereocam\"][\"translation_vector\"]\n",
    "RT2 = np.concatenate([R2, T2], axis = -1)\n",
    "mtx2 = calibration_data[\"cam1\"][\"camera_matrix\"]\n",
    "P2 = mtx2 @ RT2 #projection matrix for C2\n",
    "\n",
    "\n",
    "# here u and v are used by convention to indicate the x,y position of the detected point in a 2D plane.\n",
    "def triangulate(P1, P2, u_A, v_A, u_B, v_B):\n",
    " \n",
    "    point1 = np.array([u_A, v_A])\n",
    "    point2 = np.array([u_B, v_B])\n",
    "    A = [point1[1]*P1[2,:] - P1[1,:],\n",
    "         P1[0,:] - point1[0]*P1[2,:],\n",
    "         point2[1]*P2[2,:] - P2[1,:],\n",
    "         P2[0,:] - point2[0]*P2[2,:]\n",
    "        ]\n",
    "    A = np.array(A).reshape((4,4))\n",
    " \n",
    "    B = A.transpose() @ A\n",
    "    from scipy import linalg\n",
    "    U, s, Vh = linalg.svd(B, full_matrices = False)\n",
    " \n",
    "    return Vh[3,0:3]/Vh[3,3]\n"
   ]
  },
  {
   "cell_type": "markdown",
   "metadata": {},
   "source": [
    "# Estimate 3D Position\n",
    "\n",
    "Traverse the dataframe and apply the DLT to each pair of points using the projection matrices calculated above"
   ]
  },
  {
   "cell_type": "code",
   "execution_count": 4,
   "metadata": {},
   "outputs": [],
   "source": [
    "\n",
    "# see: https://stackoverflow.com/a/63832539/13563258\n",
    "# this is a madlad answer right here\n",
    "\n",
    "df_pnts[[\"X\", \"Y\", \"Z\"]] = [triangulate(P1, P2, *a) for a in tuple(zip(df_pnts[\"u_A\"], df_pnts[\"v_A\"],df_pnts[\"u_B\"],df_pnts[\"v_B\"]))]\n",
    "df_pnts.to_csv(\"tracked_points.csv\")\n"
   ]
  },
  {
   "cell_type": "markdown",
   "metadata": {},
   "source": [
    "# Inspect results for reasonability\n",
    "\n"
   ]
  },
  {
   "cell_type": "code",
   "execution_count": 35,
   "metadata": {},
   "outputs": [
    {
     "data": {
      "application/vnd.plotly.v1+json": {
       "config": {
        "plotlyServerURL": "https://plot.ly"
       },
       "data": [
        {
         "hovertemplate": "X=%{x}<br>Y=%{y}<br>Z=%{z}<br>frame=%{marker.color}<extra></extra>",
         "legendgroup": "",
         "marker": {
          "color": [
           0,
           0,
           0,
           0,
           0,
           0,
           0,
           0,
           0,
           0,
           0,
           0,
           1,
           1,
           1,
           1,
           1,
           1,
           1,
           1,
           1,
           1,
           1,
           1,
           2,
           2,
           2,
           2,
           2,
           2,
           2,
           2,
           2,
           2,
           2,
           2,
           3,
           3,
           3,
           3,
           3,
           3,
           3,
           3,
           3,
           3,
           3,
           3,
           4,
           4,
           4,
           4,
           4,
           4,
           4,
           4,
           4,
           4,
           4,
           4,
           5,
           5,
           5,
           5,
           5,
           5,
           5,
           5,
           5,
           5,
           5,
           5,
           6,
           6,
           6,
           6,
           6,
           6,
           6,
           6,
           6,
           6,
           6,
           6,
           7,
           7,
           7,
           7,
           7,
           7,
           7,
           7,
           7,
           7,
           7,
           7,
           8,
           8,
           8,
           8,
           8,
           8,
           8,
           8,
           8,
           8,
           8,
           8,
           9,
           9,
           9,
           9,
           9,
           9,
           9,
           9,
           9,
           9,
           9,
           9,
           10,
           10,
           10,
           10,
           10,
           10,
           10,
           10,
           10,
           10,
           10,
           10
          ],
          "coloraxis": "coloraxis",
          "symbol": "circle"
         },
         "mode": "markers",
         "name": "",
         "scene": "scene",
         "showlegend": false,
         "type": "scatter3d",
         "x": [
          -0.07849328358883581,
          -0.03931837531102967,
          0.000583982956861539,
          -0.060953069817066205,
          -0.021574802937753743,
          0.017809321675633327,
          -0.0431990042207134,
          -0.0037293546489295484,
          0.03499394233537047,
          -0.025711465695166125,
          0.013909633564822754,
          0.053217304512413466,
          -0.02876586420117995,
          0.01152444392194601,
          0.05235009228009583,
          -0.011737376735888306,
          0.02818161839092576,
          0.06882537127558838,
          0.005257649059165527,
          0.04509417638417449,
          0.08519579488527514,
          0.02195495782077845,
          0.06239170395138537,
          0.10256625610401282,
          0.04895935040244719,
          0.09125778662532714,
          0.13433944007021428,
          0.06488016484367753,
          0.10685038206355826,
          0.1495124227214797,
          0.08069310032522214,
          0.1226375900997733,
          0.1651496108820746,
          0.09667667464795787,
          0.1389408886943939,
          0.1813696838377476,
          0.08130334194008848,
          0.1247358539281337,
          0.16902198615173825,
          0.09600684506468589,
          0.1395839046115167,
          0.18336435286300667,
          0.1109380985371,
          0.15470021644911827,
          0.1984497917168353,
          0.12618090883057292,
          0.17009458225379334,
          0.21368622756614808,
          0.0437914751069034,
          0.0884682450550067,
          0.1338047574945391,
          0.06102907985963174,
          0.1059735215762994,
          0.1506296974898081,
          0.07873611678332437,
          0.12322290771262498,
          0.16816160331107385,
          0.09616899870728293,
          0.14103040429385016,
          0.18578048819127127,
          -0.008781229871965916,
          0.03693032769736555,
          0.08310127910354398,
          0.010183406803708994,
          0.055972543154500565,
          0.10178864317483988,
          0.029241412166079065,
          0.07489637026704497,
          0.12090684389039343,
          0.04841149376495129,
          0.09404133593469487,
          0.13971831699079587,
          -0.051475587821564785,
          -0.005113113023756898,
          0.04199678666581367,
          -0.03191173003985955,
          0.014375565383865193,
          0.061009222735570225,
          -0.012475786236921473,
          0.03361263108114841,
          0.08028902682494236,
          0.006961574506313831,
          0.05312308211573204,
          0.09962270659981912,
          -0.09820447128540068,
          -0.052661242726709745,
          -0.0065939594452744145,
          -0.07778150651981869,
          -0.03233663184783684,
          0.013322376291989015,
          -0.057387624080768314,
          -0.01220075135760039,
          0.033318763288011415,
          -0.03707685547745716,
          0.007972721232183027,
          0.053477504023222294,
          -0.12601967212227785,
          -0.08021025093471223,
          -0.033944379824551944,
          -0.10619657504445468,
          -0.06059682694966048,
          -0.01471530804094617,
          -0.08629829227394616,
          -0.040898811543963715,
          0.004670837733554056,
          -0.066687062842231,
          -0.02125485780545781,
          0.024096076029078133,
          -0.1421855519736289,
          -0.09629603924342982,
          -0.04999351220705506,
          -0.12330087374667989,
          -0.07754959522295984,
          -0.03172104137436676,
          -0.10453503427136213,
          -0.05882024891861047,
          -0.013204908648613041,
          -0.0856375885281136,
          -0.040316913367184654,
          0.005391751193021059,
          -0.1618730195036647,
          -0.11565606250942065,
          -0.06900726113304466,
          -0.14330485156279407,
          -0.09717566720316485,
          -0.05093636378124937,
          -0.12496721019457843,
          -0.07871533758105365,
          -0.03277538451001716,
          -0.10640315310576066,
          -0.06050370920911042,
          -0.014514709610697488
         ],
         "y": [
          -0.006100883825725197,
          -0.01575391698702352,
          -0.02519035903500553,
          0.04273789624777718,
          0.03361215654127495,
          0.02416302840001331,
          0.09192759259996054,
          0.0826787715838793,
          0.07428051644239167,
          0.1417316617322853,
          0.13248771474535073,
          0.12321520677754215,
          -0.08010001914006441,
          -0.09282591072541616,
          -0.10467166510189092,
          -0.030605611576333847,
          -0.04236790771374572,
          -0.05486349117533322,
          0.018903802778899144,
          0.0070736141090594565,
          -0.004296808038630615,
          0.06958221950574732,
          0.05696981004424037,
          0.045271284193587974,
          -0.12552761638325904,
          -0.1390791551390704,
          -0.1526182382873744,
          -0.07529309640841372,
          -0.08829029050941169,
          -0.10208869881414004,
          -0.0249519977578059,
          -0.0382520470520189,
          -0.0513300445663954,
          0.025979681128160712,
          0.013059977602023161,
          -0.0008161698461804142,
          -0.17723326687933366,
          -0.19034949547079208,
          -0.20325722223050066,
          -0.126523180540095,
          -0.13942088089168067,
          -0.1529541618055313,
          -0.0760292282139765,
          -0.08934200940749178,
          -0.10246636261576594,
          -0.025319484732571743,
          -0.0390282363893652,
          -0.05182063758924732,
          -0.22393159292597947,
          -0.23964477386209299,
          -0.25498864495629875,
          -0.17426186681187278,
          -0.189468971179208,
          -0.2051755645205389,
          -0.12472428616632603,
          -0.14009200350886056,
          -0.15499939187184128,
          -0.0746741651045778,
          -0.08995491891631091,
          -0.10571754233081661,
          -0.22694943078876084,
          -0.24492300839590542,
          -0.26235056701146564,
          -0.17741277682291565,
          -0.19538199586520286,
          -0.21293003114724135,
          -0.1280032282723489,
          -0.14578936852635502,
          -0.1636862743885816,
          -0.07860496204596859,
          -0.09641022154738924,
          -0.11422864117936539,
          -0.2185483835847711,
          -0.23702071525419813,
          -0.2555136281251094,
          -0.16868615279629737,
          -0.1872463804965087,
          -0.20574299414175184,
          -0.1193685856933823,
          -0.1378407430451602,
          -0.15632628523110143,
          -0.07005009612826679,
          -0.08851720641786584,
          -0.10700440560098563,
          -0.20787447837784342,
          -0.2273579241981475,
          -0.2470320811059937,
          -0.15841894691340366,
          -0.17801207597436253,
          -0.19748051066273897,
          -0.10939649996130114,
          -0.12880258410273496,
          -0.14828228513671932,
          -0.060351280156897606,
          -0.07977202713579093,
          -0.0992935930432873,
          -0.18444268486804122,
          -0.20328998657798283,
          -0.22240995969832916,
          -0.13463833413647028,
          -0.1535175808989129,
          -0.17259560423854423,
          -0.08534895872061404,
          -0.10423643387224713,
          -0.12313785452991728,
          -0.03607612754797678,
          -0.0549027523765327,
          -0.07372412849169083,
          -0.15752060048720742,
          -0.1756989130230769,
          -0.19407914919133457,
          -0.1077023676571735,
          -0.12601533143256813,
          -0.14422834532959058,
          -0.05821550748653769,
          -0.07638901564517389,
          -0.09460756103183636,
          -0.00874485244668083,
          -0.02686813468610416,
          -0.04495918266424832,
          -0.1370740026012836,
          -0.15509501309123488,
          -0.17320626050879195,
          -0.08717083707119226,
          -0.10519286423444377,
          -0.12319551775919578,
          -0.037849275556736714,
          -0.05546351391303478,
          -0.07346624932667137,
          0.011972948935639246,
          -0.005975264336128552,
          -0.023772266547662513
         ],
         "z": [
          0.728232182247202,
          0.7644352092679374,
          0.799501252991723,
          0.719380745682374,
          0.755711769218538,
          0.7914625226207633,
          0.7100478164054201,
          0.7464407513822632,
          0.7832082600189308,
          0.7012667806043995,
          0.7374365574764329,
          0.773254259932511,
          0.7373799604299628,
          0.7709728906674881,
          0.803503461192453,
          0.7338402939862239,
          0.7679953070690242,
          0.8011969522670038,
          0.7297722403460507,
          0.7641295447274976,
          0.7985260187540536,
          0.7264450040447671,
          0.7602646075514882,
          0.7943309500208687,
          0.7431496141235974,
          0.7721710788760698,
          0.8005256172629222,
          0.7423919921440705,
          0.7731915340912309,
          0.8017581624219243,
          0.7415727652395077,
          0.7719191862283067,
          0.8019034865652516,
          0.7405418907440978,
          0.7716390098580036,
          0.8008920909892981,
          0.7344291268482711,
          0.7618202241980037,
          0.7869710415350731,
          0.7343510180861659,
          0.7621817733604979,
          0.7876323202594437,
          0.7341598294948493,
          0.7612084088424153,
          0.7879950368424807,
          0.7326160587154827,
          0.7598707725710118,
          0.7869162576295108,
          0.698477311098121,
          0.7233135371902112,
          0.7460983367779402,
          0.6975594896275151,
          0.7225666984262739,
          0.7465036910319285,
          0.6961626462879631,
          0.7216634966704356,
          0.7455441142693697,
          0.6946610406875128,
          0.7197890946265256,
          0.7434586880371358,
          0.662112890463013,
          0.6848440862144064,
          0.7052033524022827,
          0.6617598223995665,
          0.6841412533044324,
          0.7048443705303816,
          0.6606858637731956,
          0.6833982311840503,
          0.7041469208743819,
          0.6586230487703832,
          0.6817342025743135,
          0.7032639111003834,
          0.6346296613246228,
          0.6554804360956139,
          0.6740755718735875,
          0.6344770824599333,
          0.6549597153289636,
          0.6744640954126687,
          0.6331056839475597,
          0.6540642108819084,
          0.6738261578417855,
          0.6313699663191058,
          0.6526484734689825,
          0.6726123215662366,
          0.6243584247679391,
          0.6462008554352224,
          0.6660193316151308,
          0.6253903922642424,
          0.647092677643167,
          0.668211410397894,
          0.6253800366494474,
          0.6478691302198321,
          0.6686115236232185,
          0.6253115166050486,
          0.6474376326387182,
          0.6686332611380262,
          0.6204060400556197,
          0.642005979427987,
          0.6618654027637024,
          0.6214959365819656,
          0.6430072423191097,
          0.6638693747026291,
          0.6215435512746045,
          0.6431655948179835,
          0.6647735154835024,
          0.6213813818840761,
          0.6433176836572361,
          0.664717451051958,
          0.6212307190591995,
          0.6430696024132868,
          0.6630509366953448,
          0.6226584200240628,
          0.6444293080936345,
          0.6653299854170923,
          0.6234036075425197,
          0.6452277467889507,
          0.6665281542452992,
          0.6235152898130238,
          0.6457960083864183,
          0.6671477226571783,
          0.6197580623863215,
          0.6406531286712603,
          0.6598838353409178,
          0.6213393881126618,
          0.6419504845892731,
          0.6623537494623267,
          0.6222877852828721,
          0.6429971565819843,
          0.6634525010475777,
          0.6226207931609743,
          0.6434814935866653,
          0.6642012782189807
         ]
        }
       ],
       "layout": {
        "coloraxis": {
         "colorbar": {
          "title": {
           "text": "frame"
          }
         },
         "colorscale": [
          [
           0,
           "#0d0887"
          ],
          [
           0.1111111111111111,
           "#46039f"
          ],
          [
           0.2222222222222222,
           "#7201a8"
          ],
          [
           0.3333333333333333,
           "#9c179e"
          ],
          [
           0.4444444444444444,
           "#bd3786"
          ],
          [
           0.5555555555555556,
           "#d8576b"
          ],
          [
           0.6666666666666666,
           "#ed7953"
          ],
          [
           0.7777777777777778,
           "#fb9f3a"
          ],
          [
           0.8888888888888888,
           "#fdca26"
          ],
          [
           1,
           "#f0f921"
          ]
         ]
        },
        "legend": {
         "tracegroupgap": 0
        },
        "margin": {
         "t": 60
        },
        "scene": {
         "domain": {
          "x": [
           0,
           1
          ],
          "y": [
           0,
           1
          ]
         },
         "xaxis": {
          "title": {
           "text": "X"
          }
         },
         "yaxis": {
          "title": {
           "text": "Y"
          }
         },
         "zaxis": {
          "title": {
           "text": "Z"
          }
         }
        },
        "template": {
         "data": {
          "bar": [
           {
            "error_x": {
             "color": "#2a3f5f"
            },
            "error_y": {
             "color": "#2a3f5f"
            },
            "marker": {
             "line": {
              "color": "#E5ECF6",
              "width": 0.5
             },
             "pattern": {
              "fillmode": "overlay",
              "size": 10,
              "solidity": 0.2
             }
            },
            "type": "bar"
           }
          ],
          "barpolar": [
           {
            "marker": {
             "line": {
              "color": "#E5ECF6",
              "width": 0.5
             },
             "pattern": {
              "fillmode": "overlay",
              "size": 10,
              "solidity": 0.2
             }
            },
            "type": "barpolar"
           }
          ],
          "carpet": [
           {
            "aaxis": {
             "endlinecolor": "#2a3f5f",
             "gridcolor": "white",
             "linecolor": "white",
             "minorgridcolor": "white",
             "startlinecolor": "#2a3f5f"
            },
            "baxis": {
             "endlinecolor": "#2a3f5f",
             "gridcolor": "white",
             "linecolor": "white",
             "minorgridcolor": "white",
             "startlinecolor": "#2a3f5f"
            },
            "type": "carpet"
           }
          ],
          "choropleth": [
           {
            "colorbar": {
             "outlinewidth": 0,
             "ticks": ""
            },
            "type": "choropleth"
           }
          ],
          "contour": [
           {
            "colorbar": {
             "outlinewidth": 0,
             "ticks": ""
            },
            "colorscale": [
             [
              0,
              "#0d0887"
             ],
             [
              0.1111111111111111,
              "#46039f"
             ],
             [
              0.2222222222222222,
              "#7201a8"
             ],
             [
              0.3333333333333333,
              "#9c179e"
             ],
             [
              0.4444444444444444,
              "#bd3786"
             ],
             [
              0.5555555555555556,
              "#d8576b"
             ],
             [
              0.6666666666666666,
              "#ed7953"
             ],
             [
              0.7777777777777778,
              "#fb9f3a"
             ],
             [
              0.8888888888888888,
              "#fdca26"
             ],
             [
              1,
              "#f0f921"
             ]
            ],
            "type": "contour"
           }
          ],
          "contourcarpet": [
           {
            "colorbar": {
             "outlinewidth": 0,
             "ticks": ""
            },
            "type": "contourcarpet"
           }
          ],
          "heatmap": [
           {
            "colorbar": {
             "outlinewidth": 0,
             "ticks": ""
            },
            "colorscale": [
             [
              0,
              "#0d0887"
             ],
             [
              0.1111111111111111,
              "#46039f"
             ],
             [
              0.2222222222222222,
              "#7201a8"
             ],
             [
              0.3333333333333333,
              "#9c179e"
             ],
             [
              0.4444444444444444,
              "#bd3786"
             ],
             [
              0.5555555555555556,
              "#d8576b"
             ],
             [
              0.6666666666666666,
              "#ed7953"
             ],
             [
              0.7777777777777778,
              "#fb9f3a"
             ],
             [
              0.8888888888888888,
              "#fdca26"
             ],
             [
              1,
              "#f0f921"
             ]
            ],
            "type": "heatmap"
           }
          ],
          "heatmapgl": [
           {
            "colorbar": {
             "outlinewidth": 0,
             "ticks": ""
            },
            "colorscale": [
             [
              0,
              "#0d0887"
             ],
             [
              0.1111111111111111,
              "#46039f"
             ],
             [
              0.2222222222222222,
              "#7201a8"
             ],
             [
              0.3333333333333333,
              "#9c179e"
             ],
             [
              0.4444444444444444,
              "#bd3786"
             ],
             [
              0.5555555555555556,
              "#d8576b"
             ],
             [
              0.6666666666666666,
              "#ed7953"
             ],
             [
              0.7777777777777778,
              "#fb9f3a"
             ],
             [
              0.8888888888888888,
              "#fdca26"
             ],
             [
              1,
              "#f0f921"
             ]
            ],
            "type": "heatmapgl"
           }
          ],
          "histogram": [
           {
            "marker": {
             "pattern": {
              "fillmode": "overlay",
              "size": 10,
              "solidity": 0.2
             }
            },
            "type": "histogram"
           }
          ],
          "histogram2d": [
           {
            "colorbar": {
             "outlinewidth": 0,
             "ticks": ""
            },
            "colorscale": [
             [
              0,
              "#0d0887"
             ],
             [
              0.1111111111111111,
              "#46039f"
             ],
             [
              0.2222222222222222,
              "#7201a8"
             ],
             [
              0.3333333333333333,
              "#9c179e"
             ],
             [
              0.4444444444444444,
              "#bd3786"
             ],
             [
              0.5555555555555556,
              "#d8576b"
             ],
             [
              0.6666666666666666,
              "#ed7953"
             ],
             [
              0.7777777777777778,
              "#fb9f3a"
             ],
             [
              0.8888888888888888,
              "#fdca26"
             ],
             [
              1,
              "#f0f921"
             ]
            ],
            "type": "histogram2d"
           }
          ],
          "histogram2dcontour": [
           {
            "colorbar": {
             "outlinewidth": 0,
             "ticks": ""
            },
            "colorscale": [
             [
              0,
              "#0d0887"
             ],
             [
              0.1111111111111111,
              "#46039f"
             ],
             [
              0.2222222222222222,
              "#7201a8"
             ],
             [
              0.3333333333333333,
              "#9c179e"
             ],
             [
              0.4444444444444444,
              "#bd3786"
             ],
             [
              0.5555555555555556,
              "#d8576b"
             ],
             [
              0.6666666666666666,
              "#ed7953"
             ],
             [
              0.7777777777777778,
              "#fb9f3a"
             ],
             [
              0.8888888888888888,
              "#fdca26"
             ],
             [
              1,
              "#f0f921"
             ]
            ],
            "type": "histogram2dcontour"
           }
          ],
          "mesh3d": [
           {
            "colorbar": {
             "outlinewidth": 0,
             "ticks": ""
            },
            "type": "mesh3d"
           }
          ],
          "parcoords": [
           {
            "line": {
             "colorbar": {
              "outlinewidth": 0,
              "ticks": ""
             }
            },
            "type": "parcoords"
           }
          ],
          "pie": [
           {
            "automargin": true,
            "type": "pie"
           }
          ],
          "scatter": [
           {
            "fillpattern": {
             "fillmode": "overlay",
             "size": 10,
             "solidity": 0.2
            },
            "type": "scatter"
           }
          ],
          "scatter3d": [
           {
            "line": {
             "colorbar": {
              "outlinewidth": 0,
              "ticks": ""
             }
            },
            "marker": {
             "colorbar": {
              "outlinewidth": 0,
              "ticks": ""
             }
            },
            "type": "scatter3d"
           }
          ],
          "scattercarpet": [
           {
            "marker": {
             "colorbar": {
              "outlinewidth": 0,
              "ticks": ""
             }
            },
            "type": "scattercarpet"
           }
          ],
          "scattergeo": [
           {
            "marker": {
             "colorbar": {
              "outlinewidth": 0,
              "ticks": ""
             }
            },
            "type": "scattergeo"
           }
          ],
          "scattergl": [
           {
            "marker": {
             "colorbar": {
              "outlinewidth": 0,
              "ticks": ""
             }
            },
            "type": "scattergl"
           }
          ],
          "scattermapbox": [
           {
            "marker": {
             "colorbar": {
              "outlinewidth": 0,
              "ticks": ""
             }
            },
            "type": "scattermapbox"
           }
          ],
          "scatterpolar": [
           {
            "marker": {
             "colorbar": {
              "outlinewidth": 0,
              "ticks": ""
             }
            },
            "type": "scatterpolar"
           }
          ],
          "scatterpolargl": [
           {
            "marker": {
             "colorbar": {
              "outlinewidth": 0,
              "ticks": ""
             }
            },
            "type": "scatterpolargl"
           }
          ],
          "scatterternary": [
           {
            "marker": {
             "colorbar": {
              "outlinewidth": 0,
              "ticks": ""
             }
            },
            "type": "scatterternary"
           }
          ],
          "surface": [
           {
            "colorbar": {
             "outlinewidth": 0,
             "ticks": ""
            },
            "colorscale": [
             [
              0,
              "#0d0887"
             ],
             [
              0.1111111111111111,
              "#46039f"
             ],
             [
              0.2222222222222222,
              "#7201a8"
             ],
             [
              0.3333333333333333,
              "#9c179e"
             ],
             [
              0.4444444444444444,
              "#bd3786"
             ],
             [
              0.5555555555555556,
              "#d8576b"
             ],
             [
              0.6666666666666666,
              "#ed7953"
             ],
             [
              0.7777777777777778,
              "#fb9f3a"
             ],
             [
              0.8888888888888888,
              "#fdca26"
             ],
             [
              1,
              "#f0f921"
             ]
            ],
            "type": "surface"
           }
          ],
          "table": [
           {
            "cells": {
             "fill": {
              "color": "#EBF0F8"
             },
             "line": {
              "color": "white"
             }
            },
            "header": {
             "fill": {
              "color": "#C8D4E3"
             },
             "line": {
              "color": "white"
             }
            },
            "type": "table"
           }
          ]
         },
         "layout": {
          "annotationdefaults": {
           "arrowcolor": "#2a3f5f",
           "arrowhead": 0,
           "arrowwidth": 1
          },
          "autotypenumbers": "strict",
          "coloraxis": {
           "colorbar": {
            "outlinewidth": 0,
            "ticks": ""
           }
          },
          "colorscale": {
           "diverging": [
            [
             0,
             "#8e0152"
            ],
            [
             0.1,
             "#c51b7d"
            ],
            [
             0.2,
             "#de77ae"
            ],
            [
             0.3,
             "#f1b6da"
            ],
            [
             0.4,
             "#fde0ef"
            ],
            [
             0.5,
             "#f7f7f7"
            ],
            [
             0.6,
             "#e6f5d0"
            ],
            [
             0.7,
             "#b8e186"
            ],
            [
             0.8,
             "#7fbc41"
            ],
            [
             0.9,
             "#4d9221"
            ],
            [
             1,
             "#276419"
            ]
           ],
           "sequential": [
            [
             0,
             "#0d0887"
            ],
            [
             0.1111111111111111,
             "#46039f"
            ],
            [
             0.2222222222222222,
             "#7201a8"
            ],
            [
             0.3333333333333333,
             "#9c179e"
            ],
            [
             0.4444444444444444,
             "#bd3786"
            ],
            [
             0.5555555555555556,
             "#d8576b"
            ],
            [
             0.6666666666666666,
             "#ed7953"
            ],
            [
             0.7777777777777778,
             "#fb9f3a"
            ],
            [
             0.8888888888888888,
             "#fdca26"
            ],
            [
             1,
             "#f0f921"
            ]
           ],
           "sequentialminus": [
            [
             0,
             "#0d0887"
            ],
            [
             0.1111111111111111,
             "#46039f"
            ],
            [
             0.2222222222222222,
             "#7201a8"
            ],
            [
             0.3333333333333333,
             "#9c179e"
            ],
            [
             0.4444444444444444,
             "#bd3786"
            ],
            [
             0.5555555555555556,
             "#d8576b"
            ],
            [
             0.6666666666666666,
             "#ed7953"
            ],
            [
             0.7777777777777778,
             "#fb9f3a"
            ],
            [
             0.8888888888888888,
             "#fdca26"
            ],
            [
             1,
             "#f0f921"
            ]
           ]
          },
          "colorway": [
           "#636efa",
           "#EF553B",
           "#00cc96",
           "#ab63fa",
           "#FFA15A",
           "#19d3f3",
           "#FF6692",
           "#B6E880",
           "#FF97FF",
           "#FECB52"
          ],
          "font": {
           "color": "#2a3f5f"
          },
          "geo": {
           "bgcolor": "white",
           "lakecolor": "white",
           "landcolor": "#E5ECF6",
           "showlakes": true,
           "showland": true,
           "subunitcolor": "white"
          },
          "hoverlabel": {
           "align": "left"
          },
          "hovermode": "closest",
          "mapbox": {
           "style": "light"
          },
          "paper_bgcolor": "white",
          "plot_bgcolor": "#E5ECF6",
          "polar": {
           "angularaxis": {
            "gridcolor": "white",
            "linecolor": "white",
            "ticks": ""
           },
           "bgcolor": "#E5ECF6",
           "radialaxis": {
            "gridcolor": "white",
            "linecolor": "white",
            "ticks": ""
           }
          },
          "scene": {
           "xaxis": {
            "backgroundcolor": "#E5ECF6",
            "gridcolor": "white",
            "gridwidth": 2,
            "linecolor": "white",
            "showbackground": true,
            "ticks": "",
            "zerolinecolor": "white"
           },
           "yaxis": {
            "backgroundcolor": "#E5ECF6",
            "gridcolor": "white",
            "gridwidth": 2,
            "linecolor": "white",
            "showbackground": true,
            "ticks": "",
            "zerolinecolor": "white"
           },
           "zaxis": {
            "backgroundcolor": "#E5ECF6",
            "gridcolor": "white",
            "gridwidth": 2,
            "linecolor": "white",
            "showbackground": true,
            "ticks": "",
            "zerolinecolor": "white"
           }
          },
          "shapedefaults": {
           "line": {
            "color": "#2a3f5f"
           }
          },
          "ternary": {
           "aaxis": {
            "gridcolor": "white",
            "linecolor": "white",
            "ticks": ""
           },
           "baxis": {
            "gridcolor": "white",
            "linecolor": "white",
            "ticks": ""
           },
           "bgcolor": "#E5ECF6",
           "caxis": {
            "gridcolor": "white",
            "linecolor": "white",
            "ticks": ""
           }
          },
          "title": {
           "x": 0.05
          },
          "xaxis": {
           "automargin": true,
           "gridcolor": "white",
           "linecolor": "white",
           "ticks": "",
           "title": {
            "standoff": 15
           },
           "zerolinecolor": "white",
           "zerolinewidth": 2
          },
          "yaxis": {
           "automargin": true,
           "gridcolor": "white",
           "linecolor": "white",
           "ticks": "",
           "title": {
            "standoff": 15
           },
           "zerolinecolor": "white",
           "zerolinewidth": 2
          }
         }
        }
       }
      }
     },
     "metadata": {},
     "output_type": "display_data"
    }
   ],
   "source": [
    "import plotly.express as px\n",
    "\n",
    "\n",
    "fig = px.scatter_3d(df_pnts, x='X', y='Y', z='Z',\n",
    "              color='frame')\n",
    "fig.show()"
   ]
  },
  {
   "cell_type": "markdown",
   "metadata": {},
   "source": [
    "Things appear to be sitting in a plane nicely, even when viewed more closely for just a single frame."
   ]
  },
  {
   "cell_type": "code",
   "execution_count": 36,
   "metadata": {},
   "outputs": [
    {
     "data": {
      "application/vnd.plotly.v1+json": {
       "config": {
        "plotlyServerURL": "https://plot.ly"
       },
       "data": [
        {
         "hovertemplate": "X=%{x}<br>Y=%{y}<br>Z=%{z}<br>ID=%{marker.color}<extra></extra>",
         "legendgroup": "",
         "marker": {
          "color": [
           0,
           1,
           2,
           3,
           4,
           5,
           6,
           7,
           8,
           9,
           10,
           11
          ],
          "coloraxis": "coloraxis",
          "symbol": "circle"
         },
         "mode": "markers",
         "name": "",
         "scene": "scene",
         "showlegend": false,
         "type": "scatter3d",
         "x": [
          0.08130334194008848,
          0.1247358539281337,
          0.16902198615173825,
          0.09600684506468589,
          0.1395839046115167,
          0.18336435286300667,
          0.1109380985371,
          0.15470021644911827,
          0.1984497917168353,
          0.12618090883057292,
          0.17009458225379334,
          0.21368622756614808
         ],
         "y": [
          -0.17723326687933366,
          -0.19034949547079208,
          -0.20325722223050066,
          -0.126523180540095,
          -0.13942088089168067,
          -0.1529541618055313,
          -0.0760292282139765,
          -0.08934200940749178,
          -0.10246636261576594,
          -0.025319484732571743,
          -0.0390282363893652,
          -0.05182063758924732
         ],
         "z": [
          0.7344291268482711,
          0.7618202241980037,
          0.7869710415350731,
          0.7343510180861659,
          0.7621817733604979,
          0.7876323202594437,
          0.7341598294948493,
          0.7612084088424153,
          0.7879950368424807,
          0.7326160587154827,
          0.7598707725710118,
          0.7869162576295108
         ]
        }
       ],
       "layout": {
        "coloraxis": {
         "colorbar": {
          "title": {
           "text": "ID"
          }
         },
         "colorscale": [
          [
           0,
           "#0d0887"
          ],
          [
           0.1111111111111111,
           "#46039f"
          ],
          [
           0.2222222222222222,
           "#7201a8"
          ],
          [
           0.3333333333333333,
           "#9c179e"
          ],
          [
           0.4444444444444444,
           "#bd3786"
          ],
          [
           0.5555555555555556,
           "#d8576b"
          ],
          [
           0.6666666666666666,
           "#ed7953"
          ],
          [
           0.7777777777777778,
           "#fb9f3a"
          ],
          [
           0.8888888888888888,
           "#fdca26"
          ],
          [
           1,
           "#f0f921"
          ]
         ]
        },
        "legend": {
         "tracegroupgap": 0
        },
        "margin": {
         "t": 60
        },
        "scene": {
         "domain": {
          "x": [
           0,
           1
          ],
          "y": [
           0,
           1
          ]
         },
         "xaxis": {
          "title": {
           "text": "X"
          }
         },
         "yaxis": {
          "title": {
           "text": "Y"
          }
         },
         "zaxis": {
          "title": {
           "text": "Z"
          }
         }
        },
        "template": {
         "data": {
          "bar": [
           {
            "error_x": {
             "color": "#2a3f5f"
            },
            "error_y": {
             "color": "#2a3f5f"
            },
            "marker": {
             "line": {
              "color": "#E5ECF6",
              "width": 0.5
             },
             "pattern": {
              "fillmode": "overlay",
              "size": 10,
              "solidity": 0.2
             }
            },
            "type": "bar"
           }
          ],
          "barpolar": [
           {
            "marker": {
             "line": {
              "color": "#E5ECF6",
              "width": 0.5
             },
             "pattern": {
              "fillmode": "overlay",
              "size": 10,
              "solidity": 0.2
             }
            },
            "type": "barpolar"
           }
          ],
          "carpet": [
           {
            "aaxis": {
             "endlinecolor": "#2a3f5f",
             "gridcolor": "white",
             "linecolor": "white",
             "minorgridcolor": "white",
             "startlinecolor": "#2a3f5f"
            },
            "baxis": {
             "endlinecolor": "#2a3f5f",
             "gridcolor": "white",
             "linecolor": "white",
             "minorgridcolor": "white",
             "startlinecolor": "#2a3f5f"
            },
            "type": "carpet"
           }
          ],
          "choropleth": [
           {
            "colorbar": {
             "outlinewidth": 0,
             "ticks": ""
            },
            "type": "choropleth"
           }
          ],
          "contour": [
           {
            "colorbar": {
             "outlinewidth": 0,
             "ticks": ""
            },
            "colorscale": [
             [
              0,
              "#0d0887"
             ],
             [
              0.1111111111111111,
              "#46039f"
             ],
             [
              0.2222222222222222,
              "#7201a8"
             ],
             [
              0.3333333333333333,
              "#9c179e"
             ],
             [
              0.4444444444444444,
              "#bd3786"
             ],
             [
              0.5555555555555556,
              "#d8576b"
             ],
             [
              0.6666666666666666,
              "#ed7953"
             ],
             [
              0.7777777777777778,
              "#fb9f3a"
             ],
             [
              0.8888888888888888,
              "#fdca26"
             ],
             [
              1,
              "#f0f921"
             ]
            ],
            "type": "contour"
           }
          ],
          "contourcarpet": [
           {
            "colorbar": {
             "outlinewidth": 0,
             "ticks": ""
            },
            "type": "contourcarpet"
           }
          ],
          "heatmap": [
           {
            "colorbar": {
             "outlinewidth": 0,
             "ticks": ""
            },
            "colorscale": [
             [
              0,
              "#0d0887"
             ],
             [
              0.1111111111111111,
              "#46039f"
             ],
             [
              0.2222222222222222,
              "#7201a8"
             ],
             [
              0.3333333333333333,
              "#9c179e"
             ],
             [
              0.4444444444444444,
              "#bd3786"
             ],
             [
              0.5555555555555556,
              "#d8576b"
             ],
             [
              0.6666666666666666,
              "#ed7953"
             ],
             [
              0.7777777777777778,
              "#fb9f3a"
             ],
             [
              0.8888888888888888,
              "#fdca26"
             ],
             [
              1,
              "#f0f921"
             ]
            ],
            "type": "heatmap"
           }
          ],
          "heatmapgl": [
           {
            "colorbar": {
             "outlinewidth": 0,
             "ticks": ""
            },
            "colorscale": [
             [
              0,
              "#0d0887"
             ],
             [
              0.1111111111111111,
              "#46039f"
             ],
             [
              0.2222222222222222,
              "#7201a8"
             ],
             [
              0.3333333333333333,
              "#9c179e"
             ],
             [
              0.4444444444444444,
              "#bd3786"
             ],
             [
              0.5555555555555556,
              "#d8576b"
             ],
             [
              0.6666666666666666,
              "#ed7953"
             ],
             [
              0.7777777777777778,
              "#fb9f3a"
             ],
             [
              0.8888888888888888,
              "#fdca26"
             ],
             [
              1,
              "#f0f921"
             ]
            ],
            "type": "heatmapgl"
           }
          ],
          "histogram": [
           {
            "marker": {
             "pattern": {
              "fillmode": "overlay",
              "size": 10,
              "solidity": 0.2
             }
            },
            "type": "histogram"
           }
          ],
          "histogram2d": [
           {
            "colorbar": {
             "outlinewidth": 0,
             "ticks": ""
            },
            "colorscale": [
             [
              0,
              "#0d0887"
             ],
             [
              0.1111111111111111,
              "#46039f"
             ],
             [
              0.2222222222222222,
              "#7201a8"
             ],
             [
              0.3333333333333333,
              "#9c179e"
             ],
             [
              0.4444444444444444,
              "#bd3786"
             ],
             [
              0.5555555555555556,
              "#d8576b"
             ],
             [
              0.6666666666666666,
              "#ed7953"
             ],
             [
              0.7777777777777778,
              "#fb9f3a"
             ],
             [
              0.8888888888888888,
              "#fdca26"
             ],
             [
              1,
              "#f0f921"
             ]
            ],
            "type": "histogram2d"
           }
          ],
          "histogram2dcontour": [
           {
            "colorbar": {
             "outlinewidth": 0,
             "ticks": ""
            },
            "colorscale": [
             [
              0,
              "#0d0887"
             ],
             [
              0.1111111111111111,
              "#46039f"
             ],
             [
              0.2222222222222222,
              "#7201a8"
             ],
             [
              0.3333333333333333,
              "#9c179e"
             ],
             [
              0.4444444444444444,
              "#bd3786"
             ],
             [
              0.5555555555555556,
              "#d8576b"
             ],
             [
              0.6666666666666666,
              "#ed7953"
             ],
             [
              0.7777777777777778,
              "#fb9f3a"
             ],
             [
              0.8888888888888888,
              "#fdca26"
             ],
             [
              1,
              "#f0f921"
             ]
            ],
            "type": "histogram2dcontour"
           }
          ],
          "mesh3d": [
           {
            "colorbar": {
             "outlinewidth": 0,
             "ticks": ""
            },
            "type": "mesh3d"
           }
          ],
          "parcoords": [
           {
            "line": {
             "colorbar": {
              "outlinewidth": 0,
              "ticks": ""
             }
            },
            "type": "parcoords"
           }
          ],
          "pie": [
           {
            "automargin": true,
            "type": "pie"
           }
          ],
          "scatter": [
           {
            "fillpattern": {
             "fillmode": "overlay",
             "size": 10,
             "solidity": 0.2
            },
            "type": "scatter"
           }
          ],
          "scatter3d": [
           {
            "line": {
             "colorbar": {
              "outlinewidth": 0,
              "ticks": ""
             }
            },
            "marker": {
             "colorbar": {
              "outlinewidth": 0,
              "ticks": ""
             }
            },
            "type": "scatter3d"
           }
          ],
          "scattercarpet": [
           {
            "marker": {
             "colorbar": {
              "outlinewidth": 0,
              "ticks": ""
             }
            },
            "type": "scattercarpet"
           }
          ],
          "scattergeo": [
           {
            "marker": {
             "colorbar": {
              "outlinewidth": 0,
              "ticks": ""
             }
            },
            "type": "scattergeo"
           }
          ],
          "scattergl": [
           {
            "marker": {
             "colorbar": {
              "outlinewidth": 0,
              "ticks": ""
             }
            },
            "type": "scattergl"
           }
          ],
          "scattermapbox": [
           {
            "marker": {
             "colorbar": {
              "outlinewidth": 0,
              "ticks": ""
             }
            },
            "type": "scattermapbox"
           }
          ],
          "scatterpolar": [
           {
            "marker": {
             "colorbar": {
              "outlinewidth": 0,
              "ticks": ""
             }
            },
            "type": "scatterpolar"
           }
          ],
          "scatterpolargl": [
           {
            "marker": {
             "colorbar": {
              "outlinewidth": 0,
              "ticks": ""
             }
            },
            "type": "scatterpolargl"
           }
          ],
          "scatterternary": [
           {
            "marker": {
             "colorbar": {
              "outlinewidth": 0,
              "ticks": ""
             }
            },
            "type": "scatterternary"
           }
          ],
          "surface": [
           {
            "colorbar": {
             "outlinewidth": 0,
             "ticks": ""
            },
            "colorscale": [
             [
              0,
              "#0d0887"
             ],
             [
              0.1111111111111111,
              "#46039f"
             ],
             [
              0.2222222222222222,
              "#7201a8"
             ],
             [
              0.3333333333333333,
              "#9c179e"
             ],
             [
              0.4444444444444444,
              "#bd3786"
             ],
             [
              0.5555555555555556,
              "#d8576b"
             ],
             [
              0.6666666666666666,
              "#ed7953"
             ],
             [
              0.7777777777777778,
              "#fb9f3a"
             ],
             [
              0.8888888888888888,
              "#fdca26"
             ],
             [
              1,
              "#f0f921"
             ]
            ],
            "type": "surface"
           }
          ],
          "table": [
           {
            "cells": {
             "fill": {
              "color": "#EBF0F8"
             },
             "line": {
              "color": "white"
             }
            },
            "header": {
             "fill": {
              "color": "#C8D4E3"
             },
             "line": {
              "color": "white"
             }
            },
            "type": "table"
           }
          ]
         },
         "layout": {
          "annotationdefaults": {
           "arrowcolor": "#2a3f5f",
           "arrowhead": 0,
           "arrowwidth": 1
          },
          "autotypenumbers": "strict",
          "coloraxis": {
           "colorbar": {
            "outlinewidth": 0,
            "ticks": ""
           }
          },
          "colorscale": {
           "diverging": [
            [
             0,
             "#8e0152"
            ],
            [
             0.1,
             "#c51b7d"
            ],
            [
             0.2,
             "#de77ae"
            ],
            [
             0.3,
             "#f1b6da"
            ],
            [
             0.4,
             "#fde0ef"
            ],
            [
             0.5,
             "#f7f7f7"
            ],
            [
             0.6,
             "#e6f5d0"
            ],
            [
             0.7,
             "#b8e186"
            ],
            [
             0.8,
             "#7fbc41"
            ],
            [
             0.9,
             "#4d9221"
            ],
            [
             1,
             "#276419"
            ]
           ],
           "sequential": [
            [
             0,
             "#0d0887"
            ],
            [
             0.1111111111111111,
             "#46039f"
            ],
            [
             0.2222222222222222,
             "#7201a8"
            ],
            [
             0.3333333333333333,
             "#9c179e"
            ],
            [
             0.4444444444444444,
             "#bd3786"
            ],
            [
             0.5555555555555556,
             "#d8576b"
            ],
            [
             0.6666666666666666,
             "#ed7953"
            ],
            [
             0.7777777777777778,
             "#fb9f3a"
            ],
            [
             0.8888888888888888,
             "#fdca26"
            ],
            [
             1,
             "#f0f921"
            ]
           ],
           "sequentialminus": [
            [
             0,
             "#0d0887"
            ],
            [
             0.1111111111111111,
             "#46039f"
            ],
            [
             0.2222222222222222,
             "#7201a8"
            ],
            [
             0.3333333333333333,
             "#9c179e"
            ],
            [
             0.4444444444444444,
             "#bd3786"
            ],
            [
             0.5555555555555556,
             "#d8576b"
            ],
            [
             0.6666666666666666,
             "#ed7953"
            ],
            [
             0.7777777777777778,
             "#fb9f3a"
            ],
            [
             0.8888888888888888,
             "#fdca26"
            ],
            [
             1,
             "#f0f921"
            ]
           ]
          },
          "colorway": [
           "#636efa",
           "#EF553B",
           "#00cc96",
           "#ab63fa",
           "#FFA15A",
           "#19d3f3",
           "#FF6692",
           "#B6E880",
           "#FF97FF",
           "#FECB52"
          ],
          "font": {
           "color": "#2a3f5f"
          },
          "geo": {
           "bgcolor": "white",
           "lakecolor": "white",
           "landcolor": "#E5ECF6",
           "showlakes": true,
           "showland": true,
           "subunitcolor": "white"
          },
          "hoverlabel": {
           "align": "left"
          },
          "hovermode": "closest",
          "mapbox": {
           "style": "light"
          },
          "paper_bgcolor": "white",
          "plot_bgcolor": "#E5ECF6",
          "polar": {
           "angularaxis": {
            "gridcolor": "white",
            "linecolor": "white",
            "ticks": ""
           },
           "bgcolor": "#E5ECF6",
           "radialaxis": {
            "gridcolor": "white",
            "linecolor": "white",
            "ticks": ""
           }
          },
          "scene": {
           "xaxis": {
            "backgroundcolor": "#E5ECF6",
            "gridcolor": "white",
            "gridwidth": 2,
            "linecolor": "white",
            "showbackground": true,
            "ticks": "",
            "zerolinecolor": "white"
           },
           "yaxis": {
            "backgroundcolor": "#E5ECF6",
            "gridcolor": "white",
            "gridwidth": 2,
            "linecolor": "white",
            "showbackground": true,
            "ticks": "",
            "zerolinecolor": "white"
           },
           "zaxis": {
            "backgroundcolor": "#E5ECF6",
            "gridcolor": "white",
            "gridwidth": 2,
            "linecolor": "white",
            "showbackground": true,
            "ticks": "",
            "zerolinecolor": "white"
           }
          },
          "shapedefaults": {
           "line": {
            "color": "#2a3f5f"
           }
          },
          "ternary": {
           "aaxis": {
            "gridcolor": "white",
            "linecolor": "white",
            "ticks": ""
           },
           "baxis": {
            "gridcolor": "white",
            "linecolor": "white",
            "ticks": ""
           },
           "bgcolor": "#E5ECF6",
           "caxis": {
            "gridcolor": "white",
            "linecolor": "white",
            "ticks": ""
           }
          },
          "title": {
           "x": 0.05
          },
          "xaxis": {
           "automargin": true,
           "gridcolor": "white",
           "linecolor": "white",
           "ticks": "",
           "title": {
            "standoff": 15
           },
           "zerolinecolor": "white",
           "zerolinewidth": 2
          },
          "yaxis": {
           "automargin": true,
           "gridcolor": "white",
           "linecolor": "white",
           "ticks": "",
           "title": {
            "standoff": 15
           },
           "zerolinecolor": "white",
           "zerolinewidth": 2
          }
         }
        }
       }
      }
     },
     "metadata": {},
     "output_type": "display_data"
    }
   ],
   "source": [
    "import plotly.express as px\n",
    "\n",
    "single_board = df_pnts[df_pnts[\"frame\"]==3]\n",
    "\n",
    "fig = px.scatter_3d(single_board, x='X', y='Y', z='Z', color='ID')\n",
    "fig.show()"
   ]
  },
  {
   "cell_type": "markdown",
   "metadata": {},
   "source": [
    "Previously I was having some issues with image distortion, but this does not appear to be the case after recalibrating. Now I will compare the distances between points in order to assess the 3d accuracy of the point estimate. \n",
    "\n",
    "See tutorial [here](https://docs.opencv.org/4.x/dc/dbb/tutorial_py_calibration.html) for details regarding how to undistort an image. I suspect that this may be something where it is preferable to go back to the source (i.e. perform a new calibration)."
   ]
  },
  {
   "cell_type": "markdown",
   "metadata": {},
   "source": [
    "# Calculate Distance Between Calibration Corners\n",
    "\n"
   ]
  },
  {
   "cell_type": "code",
   "execution_count": 39,
   "metadata": {},
   "outputs": [
    {
     "name": "stdout",
     "output_type": "stream",
     "text": [
      "Mean distance between corners is  Distances    0.053826\n",
      "dtype: float64\n",
      "Standard deviation between corners is Distances    0.00013\n",
      "dtype: float64\n"
     ]
    }
   ],
   "source": [
    "from charuco import Charuco\n",
    "\n",
    "charuco = Charuco(4,5,11,8.5, aruco_scale=.75, square_size_overide=.0525)\n",
    "connected_corners = charuco.get_connected_corners()\n",
    "\n",
    "connected_corners\n",
    "\n",
    "adjacent_corners = [(x,y) for x,y in connected_corners if abs(x-y)==1]\n",
    "\n",
    "def distance(ID_A, ID_B, frame):\n",
    "\n",
    "    ptA_3d = (\n",
    "    df_pnts\n",
    "    .query('frame == ' + str(frame))\n",
    "    .query('ID == ' + str(ID_A))\n",
    "    .filter([\"X\", \"Y\", \"Z\"])\n",
    "    ).to_numpy()\n",
    "\n",
    "    ptB_3d = (\n",
    "    df_pnts\n",
    "    .query('frame == ' + str(frame))\n",
    "    .query('ID == ' + str(ID_B))\n",
    "    .filter([\"X\", \"Y\", \"Z\"])\n",
    "    ).to_numpy()\n",
    "\n",
    "    dist = np.linalg.norm(ptA_3d- ptB_3d)\n",
    "    return dist\n",
    "\n",
    "distances = []\n",
    "\n",
    "for frame in range(0,df_pnts[\"frame\"].max()):\n",
    "    for pair in adjacent_corners:\n",
    "        distances.append(distance(pair[0], pair[1], 8))\n",
    "\n",
    "distances = pd.DataFrame(distances, columns = [\"Distances\"])\n",
    "print(\"Mean distance between corners is \", distances.mean())\n",
    "print(\"Standard deviation between corners is\", distances.std())"
   ]
  },
  {
   "cell_type": "markdown",
   "metadata": {},
   "source": [
    "OK. I'm feeling pretty good about where these calibration numbers are landing. It appears to be within 2 mm of the gold standard realitY measuring stick. An important part of any of this is going to involve some kind of visualization of markers in space, so I might as well figure out how to do that now. Also, I could fairly rapidly create an animation of the board moving through space to post to the Discord, and I feel like I might need that now.\n",
    "\n"
   ]
  },
  {
   "cell_type": "markdown",
   "metadata": {},
   "source": [
    "# 3D Plotting\n",
    "\n",
    "\n",
    "I originally tried working with plotly and then looked at matplotlib for 3D plotting options. Both left me with a sense that they were not the right tool for the job. I got excited by ipyvolume, but then began to have some trouble with just the basic installation of it. I will try again...\n"
   ]
  },
  {
   "cell_type": "markdown",
   "metadata": {},
   "source": [
    "The above is not working. Go back to the tutorial example to get clarity on the format that the inputs must take.\n",
    "\n",
    "https://ipyvolume.readthedocs.io/en/latest/examples/animation.html\n",
    "\n",
    "It appears that it requires X,Y,Z coordinates to be converted into arrays. This will certainly be a happy thing for quickly integrating the raw output of the triangulate function, though currently presents a challenge for working with the numpy data. \n",
    "\n",
    "Ok. I am seeing something that looks like it might present a solution to the problem I'm dealing with:\n",
    "\n",
    "*Can ipyvolume do a plot that update with real time data?*\n",
    "\n",
    "https://github.com/widgetti/ipyvolume/issues/235"
   ]
  },
  {
   "cell_type": "markdown",
   "metadata": {},
   "source": [
    "Below is a method that will work for displaying sequential point data *as it comes in*, which is quite interesting. There are more native ways within ipyvolume for playing back data, but it will require plugging of missing data."
   ]
  },
  {
   "cell_type": "code",
   "execution_count": 33,
   "metadata": {},
   "outputs": [
    {
     "data": {
      "application/vnd.jupyter.widget-view+json": {
       "model_id": "bd001cac083a4036b48aa29d0d94d5d0",
       "version_major": 2,
       "version_minor": 0
      },
      "text/plain": [
       "VBox(children=(Figure(animation=0.0, camera=PerspectiveCamera(fov=45.0, position=(0.0, 0.0, 2.0), projectionMa…"
      ]
     },
     "metadata": {},
     "output_type": "display_data"
    }
   ],
   "source": [
    "# df_ipv = df_pnts.query(\"frame == 4\")\n",
    "import ipywidgets as widgets\n",
    "import ipyvolume as ipv\n",
    "from time import sleep\n",
    "import keyboard\n",
    "\n",
    "view_not_shown = True\n",
    "# set range of bounding cube\n",
    "\n",
    "max_x = df_pnts[\"X\"].max()\n",
    "max_y = df_pnts[\"Y\"].max()\n",
    "max_z = df_pnts[\"Z\"].max()\n",
    "\n",
    "min_x = df_pnts[\"X\"].min()\n",
    "min_y = df_pnts[\"Y\"].min()\n",
    "min_z = df_pnts[\"Z\"].min()\n",
    "\n",
    "range_x = max_x - min_x\n",
    "range_y = max_y - min_y\n",
    "range_z = max_z - min_z\n",
    "\n",
    "max_range = max(range_x, range_y, range_z)\n",
    "\n",
    "for f in range(0, df_pnts[\"frame\"].max()):\n",
    "\n",
    "    if view_not_shown:\n",
    "        \n",
    "        df_ipv = df_pnts.query(f\"frame == 1\")\n",
    "        x = df_ipv[\"X\"].to_numpy()\n",
    "        y = df_ipv[\"Y\"].to_numpy()\n",
    "        z = df_ipv[\"Z\"].to_numpy()\n",
    "\n",
    "        fig = ipv.figure()\n",
    "\n",
    "        ipv.pylab.xlim(min_x, min_x + max_range)\n",
    "        ipv.pylab.ylim(min_y, min_y + max_range)\n",
    "        ipv.pylab.zlim(min_z, min_z + max_range)\n",
    "        \n",
    "        fig.animation = 0\n",
    "        scatter = ipv.scatter(x, y, z)\n",
    "        ipv.show()\n",
    "        view_not_shown = False\n",
    "\n",
    "    df_ipv = df_pnts.query(f\"frame == {f}\")\n",
    "\n",
    "    x = df_ipv[\"X\"].to_numpy()\n",
    "    y = df_ipv[\"Y\"].to_numpy()\n",
    "    z = df_ipv[\"Z\"].to_numpy()\n",
    "\n",
    "    scatter.x = x\n",
    "    scatter.y = y\n",
    "    scatter.z = z\n",
    "\n",
    "    sleep(.5)\n",
    "\n",
    "    if keyboard.is_pressed(\"q\"):\n",
    "        print(\"q pressed, ending loop\")\n",
    "        break\n",
    "\n",
    "\n"
   ]
  },
  {
   "cell_type": "markdown",
   "metadata": {},
   "source": [
    "Attempt to do the above, but within the actual constraints of `ipyvolume` to use the native animate functionality. This will require some larger reformatting of the dataframe. And if I accomplish this, I think it could be a useful thing."
   ]
  },
  {
   "cell_type": "code",
   "execution_count": 32,
   "metadata": {},
   "outputs": [
    {
     "ename": "TypeError",
     "evalue": "'bool' object is not callable",
     "output_type": "error",
     "traceback": [
      "\u001b[1;31m---------------------------------------------------------------------------\u001b[0m",
      "\u001b[1;31mTypeError\u001b[0m                                 Traceback (most recent call last)",
      "\u001b[1;32mc:\\Users\\Mac Prible\\repos\\learn-opencv\\src\\3D_Plotting.ipynb Cell 24\u001b[0m in \u001b[0;36m<cell line: 13>\u001b[1;34m()\u001b[0m\n\u001b[0;32m     <a href='vscode-notebook-cell:/c%3A/Users/Mac%20Prible/repos/learn-opencv/src/3D_Plotting.ipynb#X32sZmlsZQ%3D%3D?line=20'>21</a>\u001b[0m subset_ID \u001b[39m=\u001b[39m subset_frame\u001b[39m.\u001b[39mquery(\u001b[39mf\u001b[39m\u001b[39m\"\u001b[39m\u001b[39mID == \u001b[39m\u001b[39m{\u001b[39;00m\u001b[39mid\u001b[39m\u001b[39m}\u001b[39;00m\u001b[39m\"\u001b[39m)\n\u001b[0;32m     <a href='vscode-notebook-cell:/c%3A/Users/Mac%20Prible/repos/learn-opencv/src/3D_Plotting.ipynb#X32sZmlsZQ%3D%3D?line=21'>22</a>\u001b[0m \u001b[39m# print(subset_ID[\"ID\"].unique())\u001b[39;00m\n\u001b[1;32m---> <a href='vscode-notebook-cell:/c%3A/Users/Mac%20Prible/repos/learn-opencv/src/3D_Plotting.ipynb#X32sZmlsZQ%3D%3D?line=22'>23</a>\u001b[0m \u001b[39mif\u001b[39;00m subset_ID\u001b[39m.\u001b[39;49mempty():\n\u001b[0;32m     <a href='vscode-notebook-cell:/c%3A/Users/Mac%20Prible/repos/learn-opencv/src/3D_Plotting.ipynb#X32sZmlsZQ%3D%3D?line=23'>24</a>\u001b[0m     x_frame_points\u001b[39m.\u001b[39mappend(\u001b[39m0\u001b[39m)\n\u001b[0;32m     <a href='vscode-notebook-cell:/c%3A/Users/Mac%20Prible/repos/learn-opencv/src/3D_Plotting.ipynb#X32sZmlsZQ%3D%3D?line=24'>25</a>\u001b[0m     \u001b[39m# x_points.append\u001b[39;00m\n",
      "\u001b[1;31mTypeError\u001b[0m: 'bool' object is not callable"
     ]
    }
   ],
   "source": [
    "# Get all the IDs observed in the capture session\n",
    "\n",
    "IDs = df_pnts[\"ID\"].unique()\n",
    "frames = df_pnts[\"frame\"].unique()\n",
    "\n",
    "# print(IDs)\n",
    "# checks out\n",
    "\n",
    "x_points = []\n",
    "y_points = []\n",
    "z_points = []\n",
    "\n",
    "for frame in frames:\n",
    "    x_frame_points  = []\n",
    "    y_frame_points  = []\n",
    "    z_frame_points  = []\n",
    "    subset_frame = df_pnts.query(f\"frame == {frame}\")\n",
    "\n",
    "    for id in ID:\n",
    "        # build a list of all the ID values:\n",
    "        subset_ID = subset_frame.query(f\"ID == {id}\")\n",
    "        # print(subset_ID[\"ID\"].unique())\n",
    "        if subset_ID.empty:\n",
    "            x_frame_points.append(0)\n",
    "            # x_points.append\n",
    "            print(\"empty\")\n",
    "    x_points.append(x_frame_points)\n",
    "\n",
    "print(x_points)\n",
    "    \n",
    "\n"
   ]
  },
  {
   "cell_type": "markdown",
   "metadata": {},
   "source": [
    "# Now What?\n",
    "\n",
    "I think I may have hit the moment where I really need to just look at capturing real data and displaying it. Then I could post it and call it a day. Kinda sad that DO is going to the night birds thing, but then I know that this is something she needs to do and we will have our evening time tonight. Plus, I may be getting to a good place right now with the process. "
   ]
  }
 ],
 "metadata": {
  "kernelspec": {
   "display_name": "Python 3.9.13 ('learn-opencv')",
   "language": "python",
   "name": "python3"
  },
  "language_info": {
   "codemirror_mode": {
    "name": "ipython",
    "version": 3
   },
   "file_extension": ".py",
   "mimetype": "text/x-python",
   "name": "python",
   "nbconvert_exporter": "python",
   "pygments_lexer": "ipython3",
   "version": "3.9.13"
  },
  "orig_nbformat": 4,
  "vscode": {
   "interpreter": {
    "hash": "4b38aaa45ca36366f44747a1c297ce26cce8ddbaec42839f90b3568292c5fed3"
   }
  }
 },
 "nbformat": 4,
 "nbformat_minor": 2
}
